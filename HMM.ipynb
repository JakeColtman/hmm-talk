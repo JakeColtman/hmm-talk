{
 "cells": [
  {
   "cell_type": "code",
   "execution_count": 1,
   "metadata": {
    "collapsed": true
   },
   "outputs": [],
   "source": [
    "#pip install -U --user hmmlearn\n",
    "#https://github.com/hmmlearn/hmmlearn\n",
    "from hmmlearn import hmm\n",
    "import numpy as np\n",
    "from random import seed\n",
    "\n",
    "seed(1000)"
   ]
  },
  {
   "cell_type": "code",
   "execution_count": 2,
   "metadata": {
    "collapsed": false
   },
   "outputs": [],
   "source": [
    "#Declare model\n#n_compents is the number of hidden states",
    "model = hmm.GaussianHMM(n_components=4, covariance_type=\"full\")"
   ]
  },
  {
   "cell_type": "code",
   "execution_count": 5,
   "metadata": {
    "collapsed": false
   },
   "outputs": [
    {
     "name": "stdout",
     "output_type": "stream",
     "text": [
      "['ClientId', 'Month', 'Repayment', 'Passon', 'Logins', '', '', '', '', '\\n']\n",
      "['', '', '', '', '', '', '', '', '', '\\n']\n",
      "['', '', '1.7364117364', '2.4848484848', '8.1558441558', '', '', '', '', '\\n']\n",
      "['', '', '2.9957905687', '4.401268122', '14.6813361003', '', '', '', '', '\\n']\n"
     ]
    }
   ],
   "source": [
    "#Get data\n",
    "current_company_id = -1\n",
    "company_lengths = []\n",
    "current_count = 0\n",
    "X = []\n",
    "\n",
    "with open(\"hmm_data.csv\", \"r\") as data_file:\n",
    "    for row in data_file.readlines():\n",
    "        cols = row.split(\",\")\n",
    "        client_id = cols[0]\n",
    "        try:\n",
    "            repayment = float(cols[-3])\n",
    "            passons = float(cols[-2])\n",
    "            logins = float(cols[-1])\n",
    "            if client_id != current_company_id:\n",
    "                company_lengths.append(current_count)\n",
    "                current_company_id = client_id\n",
    "                current_count = 0\n",
    "\n",
    "            X.append([repayment, passons, logins])\n",
    "            current_count += 1\n",
    "        except:\n",
    "            print(cols)\n",
    "        \n",
    "X = np.array(X[1:])\n",
    "company_lengths = company_lengths[1:]"
   ]
  },
  {
   "cell_type": "code",
   "execution_count": 4,
   "metadata": {
    "collapsed": false
   },
   "outputs": [
    {
     "data": {
      "text/plain": [
       "GaussianHMM(algorithm='viterbi', covariance_type='full', covars_prior=0.01,\n",
       "      covars_weight=1, init_params='stmc', means_prior=0, means_weight=0,\n",
       "      min_covar=0.001, n_components=4, n_iter=10, params='stmc',\n",
       "      random_state=None, startprob_prior=1.0, tol=0.01, transmat_prior=1.0,\n",
       "      verbose=False)"
      ]
     },
     "execution_count": 4,
     "metadata": {},
     "output_type": "execute_result"
    }
   ],
   "source": [
    "model.fit(X) "
   ]
  },
  {
   "cell_type": "code",
   "execution_count": null,
   "metadata": {
    "collapsed": false
   },
   "outputs": [],
   "source": [
    "model.means_"
   ]
  },
  {
   "cell_type": "code",
   "execution_count": null,
   "metadata": {
    "collapsed": false
   },
   "outputs": [],
   "source": [
    "model.transmat_\n",
    "# Note the rows add to 1 so the 3rd column of the 1st row is the probability of going from \n",
    "# State 1 to State 3"
   ]
  },
  {
   "cell_type": "code",
   "execution_count": null,
   "metadata": {
    "collapsed": false
   },
   "outputs": [],
   "source": [
    "for x_row in model.predict(X):\n",
    "    print(x_row)"
   ]
  },
  {
   "cell_type": "code",
   "execution_count": null,
   "metadata": {
    "collapsed": true
   },
   "outputs": [],
   "source": []
  }
 ],
 "metadata": {
  "kernelspec": {
   "display_name": "Python 3",
   "language": "python",
   "name": "python3"
  },
  "language_info": {
   "codemirror_mode": {
    "name": "ipython",
    "version": 3
   },
   "file_extension": ".py",
   "mimetype": "text/x-python",
   "name": "python",
   "nbconvert_exporter": "python",
   "pygments_lexer": "ipython3",
   "version": "3.5.2"
  }
 },
 "nbformat": 4,
 "nbformat_minor": 1
}
